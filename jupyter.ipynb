{
 "cells": [
  {
   "cell_type": "code",
   "execution_count": 1,
   "metadata": {},
   "outputs": [
    {
     "name": "stdout",
     "output_type": "stream",
     "text": [
      "379\n",
      "727\n",
      "848\n",
      "1612\n",
      "1647\n",
      "2556\n",
      "2998\n",
      "3788\n",
      "3996\n",
      "4027\n",
      "4045\n",
      "4134\n",
      "4552\n",
      "4891\n",
      "5225\n",
      "5427\n",
      "5708\n",
      "6213\n",
      "6400\n",
      "6915\n",
      "wymrugany kod to: [2, 3, 3, 1, 1, 4, 5, 3, 4, 4, 4, 4, 1, 2, 3, 4, 4, 1, 2, 3]\n"
     ]
    },
    {
     "name": "stderr",
     "output_type": "stream",
     "text": [
      "c:\\users\\maksy\\appdata\\local\\programs\\python\\python37\\lib\\site-packages\\ipykernel_launcher.py:11: DeprecationWarning: object of type <class 'float'> cannot be safely interpreted as an integer.\n",
      "  # This is added back by InteractiveShellApp.init_path()\n",
      "c:\\users\\maksy\\appdata\\local\\programs\\python\\python37\\lib\\site-packages\\scipy\\signal\\_arraytools.py:45: FutureWarning: Using a non-tuple sequence for multidimensional indexing is deprecated; use `arr[tuple(seq)]` instead of `arr[seq]`. In the future this will be interpreted as an array index, `arr[np.array(seq)]`, which will result either in an error or a different result.\n",
      "  b = a[a_slice]\n"
     ]
    }
   ],
   "source": [
    "import aseegg as ag\n",
    "import pandas as pd\n",
    "import numpy as np\n",
    "import matplotlib.pyplot as plt\n",
    "\n",
    "data=pd.read_csv(\"c:/Users/maksy/repozytorium/hci/sub-01_trial-07.csv\", names = ['nr', 'data1', 'data2', 'data3', 'data4', 'z'])\n",
    "#print(dane)\n",
    "datax = data['data1']\n",
    "czestProbkowania = 200\n",
    "czas = len(datax)/czestProbkowania #37.97s\n",
    "t = np.linspace(0, czas, czas*czestProbkowania)\n",
    "\n",
    "#filtracje\n",
    "filtr1 = ag.pasmowozaporowy(datax, czestProbkowania, 49,51)\n",
    "filtr2 = ag.pasmowoprzepustowy(filtr1, czestProbkowania, 1, 50)\n",
    "\n",
    "#przed\n",
    "plt.plot(t, datax, color = 'g')\n",
    "plt.xlabel(\"t[s]\", size = 14)\n",
    "plt.ylabel(\"A[mV]\", size = 14)\n",
    "# plt.show()\n",
    "#po\n",
    "plt.plot(t, filtr2, color = 'r')\n",
    "plt.xlabel(\"t[s]\", size = 14)\n",
    "plt.ylabel(\"A[mV]\", size = 14)\n",
    "# plt.show()\n",
    "\n",
    "#mrugnięcia\n",
    "x=[]\n",
    "i2=0\n",
    "p=0\n",
    "for i in filtr2:\n",
    "    if i>=0.05 and i2<0.05:\n",
    "        x.append(data['z'][p])\n",
    "        print(p)\n",
    "    i2=i\n",
    "    p+=1\n",
    "print(\"wymrugany kod to:\", x)\n"
   ]
  },
  {
   "cell_type": "code",
   "execution_count": null,
   "metadata": {},
   "outputs": [],
   "source": []
  }
 ],
 "metadata": {
  "kernelspec": {
   "display_name": "Python 3",
   "language": "python",
   "name": "python3"
  },
  "language_info": {
   "codemirror_mode": {
    "name": "ipython",
    "version": 3
   },
   "file_extension": ".py",
   "mimetype": "text/x-python",
   "name": "python",
   "nbconvert_exporter": "python",
   "pygments_lexer": "ipython3",
   "version": "3.7.0b2"
  }
 },
 "nbformat": 4,
 "nbformat_minor": 2
}
